{
 "cells": [
  {
   "cell_type": "code",
   "execution_count": 218,
   "metadata": {},
   "outputs": [
    {
     "name": "stdout",
     "output_type": "stream",
     "text": [
      "Training on device cpu.\n"
     ]
    }
   ],
   "source": [
    "import torch\n",
    "import torch.nn.functional as F\n",
    "import matplotlib.pyplot as plt\n",
    "import os\n",
    "import math\n",
    "\n",
    "from torch import nn, optim\n",
    "from torch.utils.data import TensorDataset, DataLoader, ConcatDataset\n",
    "from matplotlib.lines import Line2D\n",
    "from collections import Counter\n",
    "from datetime import datetime\n",
    "\n",
    "seed = 265\n",
    "torch.manual_seed(seed)\n",
    "\n",
    "device = (torch.device('cuda') if torch.cuda.is_available() else torch.device('cpu'))\n",
    "print(f\"Training on device {device}.\")"
   ]
  },
  {
   "cell_type": "code",
   "execution_count": 219,
   "metadata": {},
   "outputs": [],
   "source": [
    "# ----------------------- Setup ----------------------------\n",
    "PATH_GENERATED = './generated/'\n",
    "\n",
    "vocab = torch.load(PATH_GENERATED + 'vocabulary.pt', map_location=torch.device(device))\n",
    "embedding = torch.load(PATH_GENERATED + 'embedding.pt', map_location=torch.device(device))\n",
    "(VOCAB_SIZE, embedding_dim) = embedding.weight.shape  \n",
    "\n",
    "words_train = torch.load(PATH_GENERATED + \"words_train.pt\", map_location=torch.device(device))\n",
    "words_val   = torch.load(PATH_GENERATED + \"words_val.pt\", map_location=torch.device(device))\n",
    "words_test  = torch.load(PATH_GENERATED + \"words_test.pt\", map_location=torch.device(device))"
   ]
  },
  {
   "cell_type": "code",
   "execution_count": 243,
   "metadata": {},
   "outputs": [],
   "source": [
    "CONTEXT_SIZE = 10\n",
    "\n",
    "def create_dataset(text, vocab, context_size=CONTEXT_SIZE):\n",
    "    \n",
    "    # Transform each word to its index in the vocabulary.\n",
    "    txt = [vocab[w] for w in text]\n",
    "\n",
    "    n_text = len(text)\n",
    "\n",
    "    contexts = []\n",
    "    targets = []\n",
    "    for i in range(n_text - context_size):\n",
    "        \n",
    "        t = txt[i + context_size]\n",
    "        if  vocab.lookup_token(t) in ['<unk>']: continue # We only want to guess known words.\n",
    "        c = txt[i:i + context_size]\n",
    "        \n",
    "        targets.append(t - 1) \n",
    "        contexts.append(torch.tensor(c).to(device=device))\n",
    "            \n",
    "    contexts = torch.stack(contexts)\n",
    "    targets = torch.tensor(targets).to(device=device)\n",
    "    return TensorDataset(contexts, targets)"
   ]
  },
  {
   "cell_type": "code",
   "execution_count": 244,
   "metadata": {},
   "outputs": [],
   "source": [
    "def load_dataset(words, vocab, fname):\n",
    "    \"\"\"\n",
    "    Load dataset if already generated, otherwise, create it and save it\n",
    "    \"\"\"\n",
    "    \n",
    "    if os.path.isfile(PATH_GENERATED + fname):\n",
    "        dataset = torch.load(PATH_GENERATED + fname, map_location=torch.device(device))\n",
    "    else:\n",
    "        dataset = create_dataset(words, vocab)\n",
    "        torch.save(dataset, PATH_GENERATED + fname)\n",
    "    return dataset\n",
    "\n",
    "data_train_gen = load_dataset(words_train, vocab, \"gen_data_train.pt\")\n",
    "data_val_gen   = load_dataset(words_val, vocab, \"gen_data_val.pt\")\n",
    "data_test_gen  = load_dataset(words_test, vocab, \"gen_data_test.pt\")"
   ]
  },
  {
   "cell_type": "code",
   "execution_count": 245,
   "metadata": {},
   "outputs": [
    {
     "data": {
      "image/png": "[encoded data removed]",
      "text/plain": [
       "<Figure size 432x288 with 1 Axes>"
      ]
     },
     "metadata": {
      "needs_background": "light"
     },
     "output_type": "display_data"
    },
    {
     "name": "stdout",
     "output_type": "stream",
     "text": [
      "The frequencies of the words are very skewed. We need to weigh the words for the CE loss function.\n"
     ]
    }
   ],
   "source": [
    "target_words_idx = data_train_gen[:][1].tolist()\n",
    "target_words = [vocab.lookup_token(i) for i in target_words_idx]\n",
    "counts = Counter(target_words)\n",
    "most_freq = counts.most_common(100)\n",
    "most_freq_words = [t[0] for t in most_freq]\n",
    "most_freq_values = [t[1] for t in most_freq]\n",
    "\n",
    "\n",
    "plt.bar(most_freq_words, height=most_freq_values)\n",
    "plt.xticks([])\n",
    "plt.title(\"Occurences of the 100 most frequent words in the training text\")\n",
    "plt.show()\n",
    "print(\"The frequencies of the words are very skewed. We need to weigh the words for the CE loss function.\")"
   ]
  },
  {
   "cell_type": "code",
   "execution_count": 246,
   "metadata": {},
   "outputs": [
    {
     "data": {
      "image/png": "[encoded data removed]",
      "text/plain": [
       "<Figure size 432x288 with 1 Axes>"
      ]
     },
     "metadata": {
      "needs_background": "light"
     },
     "output_type": "display_data"
    }
   ],
   "source": [
    "def calculate_word_weights(counts):\n",
    "    \"\"\"\n",
    "    Calculate the weight of each word so that the loss function can weigh \n",
    "    frequent words less and unfrequent words more.\n",
    "    \"\"\"\n",
    "    total_words = counts.total()\n",
    "    word_weights = [(total_words / value) for value in counts.values()] \n",
    "    word_weights = torch.tensor(word_weights, dtype=torch.float).to(device=device)\n",
    "    return word_weights\n",
    "\n",
    "word_weigts = calculate_word_weights(counts)\n",
    "values_balanced = [int(list(counts.values())[i])*w for i, w in enumerate(word_weigts)]\n",
    "plt.bar(list(counts.keys())[:10], height=values_balanced[:10])\n",
    "plt.xticks([])\n",
    "plt.title(\"Occurences of the 10 first words in the text after balancing\")\n",
    "plt.show()"
   ]
  },
  {
   "cell_type": "code",
   "execution_count": 247,
   "metadata": {},
   "outputs": [],
   "source": [
    "# ---------------- RNN MLP hyper parameters ----------------------- \n",
    "lrs = [0.1, 0.01, 0.001]\n",
    "rnn_hparams = [{\n",
    "    'lr': lr,\n",
    "} for lr in lrs]\n",
    "\n",
    "train_loader = DataLoader(data_test_gen, batch_size=128, shuffle=True)\n",
    "val_loader = DataLoader(data_val_gen, batch_size=128, shuffle=True)\n",
    "test_loader = DataLoader(data_test_gen, batch_size=128, shuffle=True)"
   ]
  },
  {
   "cell_type": "code",
   "execution_count": 248,
   "metadata": {},
   "outputs": [],
   "source": [
    "# ---------------- Train and accuracy -----------------------\n",
    "def train(n_epochs, optimizer, model, loss_fn, train_loader):\n",
    "\n",
    "    n_batch = len(train_loader)\n",
    "    losses_train = []\n",
    "    model.train()\n",
    "    optimizer.zero_grad(set_to_none=True)\n",
    "\n",
    "    for epoch in range(1, n_epochs + 1):\n",
    "\n",
    "        loss_train = 0.0\n",
    "        for contexts, targets in train_loader:\n",
    "\n",
    "            contexts = contexts.to(device=device)\n",
    "            targets = targets.to(device=device)\n",
    "\n",
    "            outputs = model(contexts)\n",
    "\n",
    "            loss = loss_fn(outputs, targets)\n",
    "            loss.backward()\n",
    "            optimizer.step()\n",
    "            optimizer.zero_grad()\n",
    "\n",
    "            loss_train += loss.item()\n",
    "\n",
    "        losses_train.append(loss_train / n_batch)\n",
    "\n",
    "        if epoch == 1 or epoch % 5 == 0:\n",
    "            print('{}  |  Epoch {}  |  Training loss {:.5f}'.format(\n",
    "                datetime.now().time(), epoch, loss_train / n_batch))\n",
    "    return losses_train\n",
    "\n",
    "def compute_accuracy(model, loader):\n",
    "    \"\"\"\n",
    "    Computes accuracy as correctly predicted / total \n",
    "    \"\"\"\n",
    "    model.eval()\n",
    "\n",
    "    correct = 0\n",
    "    total = 0\n",
    "\n",
    "    with torch.no_grad():\n",
    "        for contexts, targets in loader:\n",
    "            contexts = contexts.to(device=device)\n",
    "            targets = targets.to(device=device)\n",
    "\n",
    "            outputs = model(contexts)\n",
    "            _, predicted = torch.max(outputs, dim=1)\n",
    "            total += len(targets)\n",
    "            correct += int((predicted == targets).sum())\n",
    "\n",
    "    acc =  correct / total\n",
    "    return acc"
   ]
  },
  {
   "cell_type": "code",
   "execution_count": 249,
   "metadata": {},
   "outputs": [],
   "source": [
    "class RNN(nn.Module):\n",
    "    def __init__(self, embedding):\n",
    "        super().__init__()\n",
    "\n",
    "        self.embedding = nn.Embedding(VOCAB_SIZE, embedding_dim)\n",
    "        self.embedding.load_state_dict(embedding.state_dict())\n",
    "        for p in self.embedding.parameters():\n",
    "            p.requires_grad = False\n",
    "\n",
    "        self.lstm = nn.LSTM(input_size=embedding_dim, hidden_size=len(counts), batch_first=True)\n",
    "\n",
    "    def forward(self, x):\n",
    "        x = self.embedding(x)\n",
    "        out, (h_n, c_n) = self.lstm(x)\n",
    "        return h_n[-1]"
   ]
  },
  {
   "cell_type": "code",
   "execution_count": 250,
   "metadata": {},
   "outputs": [
    {
     "name": "stdout",
     "output_type": "stream",
     "text": [
      "Now training a RNN model\n",
      "Training using parameters: {'lr': 0.1}\n",
      "17:30:55.100107  |  Epoch 1  |  Training loss 7.40150\n"
     ]
    },
    {
     "ename": "KeyboardInterrupt",
     "evalue": "",
     "output_type": "error",
     "traceback": [
      "\u001b[0;31m---------------------------------------------------------------------------\u001b[0m",
      "\u001b[0;31mKeyboardInterrupt\u001b[0m                         Traceback (most recent call last)",
      "\u001b[1;32m/Users/emil/Documents/inf265/Projects/Project 3/text_generation.ipynb Cell 10\u001b[0m in \u001b[0;36m<cell line: 6>\u001b[0;34m()\u001b[0m\n\u001b[1;32m     <a href='vscode-notebook-cell:/Users/emil/Documents/inf265/Projects/Project%203/text_generation.ipynb#X16sZmlsZQ%3D%3D?line=10'>11</a>\u001b[0m optimizer \u001b[39m=\u001b[39m optim\u001b[39m.\u001b[39mAdam(model\u001b[39m.\u001b[39mparameters(), \u001b[39m*\u001b[39m\u001b[39m*\u001b[39mparam)\n\u001b[1;32m     <a href='vscode-notebook-cell:/Users/emil/Documents/inf265/Projects/Project%203/text_generation.ipynb#X16sZmlsZQ%3D%3D?line=11'>12</a>\u001b[0m n_epochs \u001b[39m=\u001b[39m \u001b[39m20\u001b[39m\n\u001b[0;32m---> <a href='vscode-notebook-cell:/Users/emil/Documents/inf265/Projects/Project%203/text_generation.ipynb#X16sZmlsZQ%3D%3D?line=13'>14</a>\u001b[0m loss \u001b[39m=\u001b[39m train(n_epochs, optimizer, model, loss_fn, train_loader)\n\u001b[1;32m     <a href='vscode-notebook-cell:/Users/emil/Documents/inf265/Projects/Project%203/text_generation.ipynb#X16sZmlsZQ%3D%3D?line=14'>15</a>\u001b[0m accuracy \u001b[39m=\u001b[39m compute_accuracy(model, val_loader)\n\u001b[1;32m     <a href='vscode-notebook-cell:/Users/emil/Documents/inf265/Projects/Project%203/text_generation.ipynb#X16sZmlsZQ%3D%3D?line=16'>17</a>\u001b[0m models\u001b[39m.\u001b[39mappend(model)\n",
      "\u001b[1;32m/Users/emil/Documents/inf265/Projects/Project 3/text_generation.ipynb Cell 10\u001b[0m in \u001b[0;36mtrain\u001b[0;34m(n_epochs, optimizer, model, loss_fn, train_loader)\u001b[0m\n\u001b[1;32m     <a href='vscode-notebook-cell:/Users/emil/Documents/inf265/Projects/Project%203/text_generation.ipynb#X16sZmlsZQ%3D%3D?line=16'>17</a>\u001b[0m outputs \u001b[39m=\u001b[39m model(contexts)\n\u001b[1;32m     <a href='vscode-notebook-cell:/Users/emil/Documents/inf265/Projects/Project%203/text_generation.ipynb#X16sZmlsZQ%3D%3D?line=18'>19</a>\u001b[0m loss \u001b[39m=\u001b[39m loss_fn(outputs, targets)\n\u001b[0;32m---> <a href='vscode-notebook-cell:/Users/emil/Documents/inf265/Projects/Project%203/text_generation.ipynb#X16sZmlsZQ%3D%3D?line=19'>20</a>\u001b[0m loss\u001b[39m.\u001b[39;49mbackward()\n\u001b[1;32m     <a href='vscode-notebook-cell:/Users/emil/Documents/inf265/Projects/Project%203/text_generation.ipynb#X16sZmlsZQ%3D%3D?line=20'>21</a>\u001b[0m optimizer\u001b[39m.\u001b[39mstep()\n\u001b[1;32m     <a href='vscode-notebook-cell:/Users/emil/Documents/inf265/Projects/Project%203/text_generation.ipynb#X16sZmlsZQ%3D%3D?line=21'>22</a>\u001b[0m optimizer\u001b[39m.\u001b[39mzero_grad()\n",
      "File \u001b[0;32m~/opt/anaconda3/envs/inf265/lib/python3.10/site-packages/torch/_tensor.py:488\u001b[0m, in \u001b[0;36mTensor.backward\u001b[0;34m(self, gradient, retain_graph, create_graph, inputs)\u001b[0m\n\u001b[1;32m    478\u001b[0m \u001b[39mif\u001b[39;00m has_torch_function_unary(\u001b[39mself\u001b[39m):\n\u001b[1;32m    479\u001b[0m     \u001b[39mreturn\u001b[39;00m handle_torch_function(\n\u001b[1;32m    480\u001b[0m         Tensor\u001b[39m.\u001b[39mbackward,\n\u001b[1;32m    481\u001b[0m         (\u001b[39mself\u001b[39m,),\n\u001b[0;32m   (...)\u001b[0m\n\u001b[1;32m    486\u001b[0m         inputs\u001b[39m=\u001b[39minputs,\n\u001b[1;32m    487\u001b[0m     )\n\u001b[0;32m--> 488\u001b[0m torch\u001b[39m.\u001b[39;49mautograd\u001b[39m.\u001b[39;49mbackward(\n\u001b[1;32m    489\u001b[0m     \u001b[39mself\u001b[39;49m, gradient, retain_graph, create_graph, inputs\u001b[39m=\u001b[39;49minputs\n\u001b[1;32m    490\u001b[0m )\n",
      "File \u001b[0;32m~/opt/anaconda3/envs/inf265/lib/python3.10/site-packages/torch/autograd/__init__.py:197\u001b[0m, in \u001b[0;36mbackward\u001b[0;34m(tensors, grad_tensors, retain_graph, create_graph, grad_variables, inputs)\u001b[0m\n\u001b[1;32m    192\u001b[0m     retain_graph \u001b[39m=\u001b[39m create_graph\n\u001b[1;32m    194\u001b[0m \u001b[39m# The reason we repeat same the comment below is that\u001b[39;00m\n\u001b[1;32m    195\u001b[0m \u001b[39m# some Python versions print out the first line of a multi-line function\u001b[39;00m\n\u001b[1;32m    196\u001b[0m \u001b[39m# calls in the traceback and some print out the last line\u001b[39;00m\n\u001b[0;32m--> 197\u001b[0m Variable\u001b[39m.\u001b[39;49m_execution_engine\u001b[39m.\u001b[39;49mrun_backward(  \u001b[39m# Calls into the C++ engine to run the backward pass\u001b[39;49;00m\n\u001b[1;32m    198\u001b[0m     tensors, grad_tensors_, retain_graph, create_graph, inputs,\n\u001b[1;32m    199\u001b[0m     allow_unreachable\u001b[39m=\u001b[39;49m\u001b[39mTrue\u001b[39;49;00m, accumulate_grad\u001b[39m=\u001b[39;49m\u001b[39mTrue\u001b[39;49;00m)\n",
      "\u001b[0;31mKeyboardInterrupt\u001b[0m: "
     ]
    }
   ],
   "source": [
    "models = []\n",
    "train_losses = []\n",
    "accuracies = []\n",
    "params = []\n",
    "print(\"Now training a RNN model\")\n",
    "for param in rnn_hparams:\n",
    "    print(f\"Training using parameters: {param}\")\n",
    "    torch.manual_seed(seed)\n",
    "    model = RNN(embedding)\n",
    "    loss_fn = nn.CrossEntropyLoss(weight=word_weigts)\n",
    "    optimizer = optim.Adam(model.parameters(), **param)\n",
    "    n_epochs = 20\n",
    "    \n",
    "    loss = train(n_epochs, optimizer, model, loss_fn, train_loader)\n",
    "    accuracy = compute_accuracy(model, val_loader)\n",
    "\n",
    "    models.append(model)\n",
    "    train_losses.append(loss)\n",
    "    accuracies.append(accuracy)\n",
    "    params.append(param)\n",
    "    print()"
   ]
  }
 ],
 "metadata": {
  "kernelspec": {
   "display_name": "inf265",
   "language": "python",
   "name": "python3"
  },
  "language_info": {
   "codemirror_mode": {
    "name": "ipython",
    "version": 3
   },
   "file_extension": ".py",
   "mimetype": "text/x-python",
   "name": "python",
   "nbconvert_exporter": "python",
   "pygments_lexer": "ipython3",
   "version": "3.10.9"
  },
  "orig_nbformat": 4
 },
 "nbformat": 4,
 "nbformat_minor": 2
}
