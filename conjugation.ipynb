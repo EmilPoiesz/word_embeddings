{
 "cells": [
  {
   "cell_type": "code",
   "execution_count": 1,
   "metadata": {},
   "outputs": [
    {
     "name": "stdout",
     "output_type": "stream",
     "text": [
      "Training on device cpu.\n"
     ]
    }
   ],
   "source": [
    "import torch\n",
    "import torch.nn.functional as F\n",
    "import matplotlib.pyplot as plt\n",
    "import os\n",
    "import math\n",
    "\n",
    "from torch import nn, optim\n",
    "from torch.utils.data import TensorDataset, DataLoader\n",
    "from collections import Counter\n",
    "from datetime import datetime\n",
    "\n",
    "\n",
    "device = (torch.device('cuda') if torch.cuda.is_available() else torch.device('cpu'))\n",
    "print(f\"Training on device {device}.\")"
   ]
  },
  {
   "cell_type": "code",
   "execution_count": 2,
   "metadata": {},
   "outputs": [],
   "source": [
    "# ----------------------- Setup ----------------------------\n",
    "PATH_GENERATED = './generated/'\n",
    "\n",
    "vocab = torch.load(PATH_GENERATED + 'vocabulary.pt', map_location=torch.device(device))\n",
    "embedding = torch.load(PATH_GENERATED + 'embedding.pt', map_location=torch.device(device))\n",
    "(VOCAB_SIZE, embedding_dim) = embedding.weight.shape  \n",
    "\n",
    "words_train = torch.load(PATH_GENERATED + \"words_train.pt\", map_location=torch.device(device))\n",
    "words_val   = torch.load(PATH_GENERATED + \"words_val.pt\", map_location=torch.device(device))\n",
    "words_test  = torch.load(PATH_GENERATED + \"words_test.pt\", map_location=torch.device(device))"
   ]
  },
  {
   "cell_type": "code",
   "execution_count": 3,
   "metadata": {},
   "outputs": [],
   "source": [
    "CONTEXT_SIZE = 10\n",
    "conjugation_list = ['be', 'am', 'are', 'is', 'was', 'were', 'been', 'being', 'have', 'has', 'had', 'having']\n",
    "MAP_TARGET = {vocab[w]:i for i, w in enumerate(conjugation_list)}\n",
    "\n",
    "def create_dataset(text, vocab, context_size=CONTEXT_SIZE, map_target=MAP_TARGET):\n",
    "    \n",
    "    # Transform each word to its index in the vocabulary.\n",
    "    txt = [vocab[w] for w in text]\n",
    "\n",
    "    n_text = len(text)\n",
    "    contexts = []\n",
    "    targets = []\n",
    "    for i in range(n_text - context_size):\n",
    "        \n",
    "        t = txt[i + context_size]\n",
    "        if  not vocab.lookup_token(t) in conjugation_list: continue # We only want to guess conjunctions of be and have.\n",
    "        c = txt[i:i + context_size]\n",
    "        \n",
    "        targets.append(map_target[t]) \n",
    "        contexts.append(torch.tensor(c).to(device=device))\n",
    "            \n",
    "    contexts = torch.stack(contexts)\n",
    "    targets = torch.tensor(targets).to(device=device)\n",
    "    return TensorDataset(contexts, targets)"
   ]
  },
  {
   "cell_type": "code",
   "execution_count": 4,
   "metadata": {},
   "outputs": [],
   "source": [
    "def load_dataset(words, vocab, fname):\n",
    "    \"\"\"\n",
    "    Load dataset if already generated, otherwise, create it and save it\n",
    "    \"\"\"\n",
    "    \n",
    "    if os.path.isfile(PATH_GENERATED + fname):\n",
    "        dataset = torch.load(PATH_GENERATED + fname, map_location=torch.device(device))\n",
    "    else:\n",
    "        dataset = create_dataset(words, vocab)\n",
    "        torch.save(dataset, PATH_GENERATED + fname)\n",
    "    return dataset\n",
    "\n",
    "data_train_conj = load_dataset(words_train, vocab, \"conj_data_train.pt\")\n",
    "data_val_conj   = load_dataset(words_val, vocab, \"conj_data_val.pt\")\n",
    "data_test_conj  = load_dataset(words_test, vocab, \"conj_data_test.pt\")"
   ]
  },
  {
   "cell_type": "code",
   "execution_count": 5,
   "metadata": {},
   "outputs": [
    {
     "data": {
      "image/png": "[encoded data removed]",
      "text/plain": [
       "<Figure size 432x288 with 1 Axes>"
      ]
     },
     "metadata": {
      "needs_background": "light"
     },
     "output_type": "display_data"
    }
   ],
   "source": [
    "counts = Counter(data_train_conj[:][1].tolist())\n",
    "values = [int(counts[i]) for i in range(len(counts))]\n",
    "plt.bar(conjugation_list, values)\n",
    "plt.show()"
   ]
  },
  {
   "attachments": {},
   "cell_type": "markdown",
   "metadata": {},
   "source": [
    "The distribution of the target words are very skewed, we need to weigh the words by their frequency in the training set"
   ]
  },
  {
   "cell_type": "code",
   "execution_count": 6,
   "metadata": {},
   "outputs": [
    {
     "data": {
      "image/png": "[encoded data removed]",
      "text/plain": [
       "<Figure size 432x288 with 1 Axes>"
      ]
     },
     "metadata": {
      "needs_background": "light"
     },
     "output_type": "display_data"
    }
   ],
   "source": [
    "def calculate_word_weights(values):\n",
    "    \"\"\"\n",
    "    Calculate the weight of each word so that the loss function can weigh \n",
    "    frequent words less and unfrequent words more.\n",
    "    \"\"\"\n",
    "    total_words = sum(values)\n",
    "    word_weights = [total_words / value for value in values]\n",
    "    word_weights = torch.tensor(word_weights, dtype=torch.float).to(device=device)\n",
    "    return word_weights\n",
    "\n",
    "word_weigts = calculate_word_weights(values)\n",
    "values_balanced = [int(values[i])*w for i, w in enumerate(word_weigts)]\n",
    "plt.bar(conjugation_list, values_balanced)\n",
    "plt.show()"
   ]
  },
  {
   "cell_type": "code",
   "execution_count": 215,
   "metadata": {},
   "outputs": [],
   "source": [
    "# ---------------- Attention functions -----------------------\n",
    "pos_encoding = torch.zeros((CONTEXT_SIZE, embedding_dim))\n",
    "for i in range(CONTEXT_SIZE):\n",
    "    for ii in range(int(embedding_dim/2)):\n",
    "        pos_encoding[i][2*ii] = math.sin(i/1000**((2*ii)/embedding_dim))\n",
    "        pos_encoding[i][2*ii +1] = math.cos(i/1000**((2*ii)/embedding_dim))"
   ]
  },
  {
   "cell_type": "code",
   "execution_count": 222,
   "metadata": {},
   "outputs": [],
   "source": [
    "# ---------------- Simple MLP hyper parameters -----------------------\n",
    "lrs = [0.01, 0.001]\n",
    "decays = [0.8, 0.5, 0.1]\n",
    "mlp_hparams = [{\n",
    "    'lr': lr,\n",
    "    'weight_decay': decay\n",
    "} for lr in lrs for decay in decays]\n",
    "\n",
    "# ---------------- Attention MLP hyper parameters ----------------------- TEMP\n",
    "lrs = [0.1, 0.01, 0.001]\n",
    "attention_hparams = [{\n",
    "    'lr': lr,\n",
    "} for lr in lrs]\n",
    "\n",
    "# ---------------- RNN MLP hyper parameters ----------------------- TEMP\n",
    "lrs = [0.01, 0.001]\n",
    "rnn_hparams = [{\n",
    "    'lr': lr,\n",
    "} for lr in lrs]\n",
    "\n",
    "hparams = []\n",
    "hparams.append(mlp_hparams)\n",
    "hparams.append([None]) #TODO temp"
   ]
  },
  {
   "cell_type": "code",
   "execution_count": 10,
   "metadata": {},
   "outputs": [],
   "source": [
    "# ---------------- Train and accuracy -----------------------\n",
    "def train(n_epochs, optimizer, model, loss_fn, train_loader):\n",
    "\n",
    "    n_batch = len(train_loader)\n",
    "    losses_train = []\n",
    "    model.train()\n",
    "    optimizer.zero_grad(set_to_none=True)\n",
    "\n",
    "    for epoch in range(1, n_epochs + 1):\n",
    "\n",
    "        loss_train = 0.0\n",
    "        for contexts, targets in train_loader:\n",
    "\n",
    "            contexts = contexts.to(device=device)\n",
    "            targets = targets.to(device=device)\n",
    "\n",
    "            outputs = model(contexts)\n",
    "\n",
    "            loss = loss_fn(outputs, targets)\n",
    "            loss.backward()\n",
    "            optimizer.step()\n",
    "            optimizer.zero_grad()\n",
    "\n",
    "            loss_train += loss.item()\n",
    "\n",
    "        losses_train.append(loss_train / n_batch)\n",
    "\n",
    "        if epoch == 1 or epoch % 5 == 0:\n",
    "            print('{}  |  Epoch {}  |  Training loss {:.5f}'.format(\n",
    "                datetime.now().time(), epoch, loss_train / n_batch))\n",
    "    return losses_train\n",
    "\n",
    "def compute_accuracy(model, loader):\n",
    "    \"\"\"\n",
    "    Computes accuracy as correctly predicted / total \n",
    "    \"\"\"\n",
    "    model.eval()\n",
    "\n",
    "    correct = 0\n",
    "    total = 0\n",
    "\n",
    "    with torch.no_grad():\n",
    "        for contexts, targets in loader:\n",
    "            contexts = contexts.to(device=device)\n",
    "            targets = targets.to(device=device)\n",
    "\n",
    "            outputs = model(contexts)\n",
    "            _, predicted = torch.max(outputs, dim=1)\n",
    "            total += len(targets)\n",
    "            correct += int((predicted == targets).sum())\n",
    "\n",
    "    acc =  correct / total\n",
    "    return acc"
   ]
  },
  {
   "cell_type": "code",
   "execution_count": 220,
   "metadata": {},
   "outputs": [],
   "source": [
    "class SimpleMLP(nn.Module):\n",
    "    def __init__(self, embedding, context_size=CONTEXT_SIZE):\n",
    "        super().__init__()\n",
    "\n",
    "        (vocab_size, embedding_dim) = embedding.weight.shape\n",
    "        self.embedding = nn.Embedding(vocab_size, embedding_dim)\n",
    "        self.embedding.load_state_dict(embedding.state_dict())\n",
    "        for p in self.embedding.parameters():\n",
    "            p.requires_grad = False\n",
    "\n",
    "        self.fc1 = nn.Linear(embedding_dim*context_size, 256)\n",
    "        self.fc2 = nn.Linear(256, 64)\n",
    "        self.fc3 = nn.Linear(64, 12)\n",
    "\n",
    "    def forward(self, x):\n",
    "        out = self.embedding(x)\n",
    "        out = F.relu(self.fc1(torch.flatten(out, 1)))\n",
    "        out = F.relu(self.fc2(out))\n",
    "        out = self.fc3(out)\n",
    "\n",
    "        return out\n",
    "\n",
    "class AttentionMLP(nn.Module):\n",
    "    def __init__(self, batch_size=256, n_heads=5):\n",
    "        super().__init__()\n",
    "\n",
    "        self.n_heads = n_heads\n",
    "        self.embedding = nn.Embedding(VOCAB_SIZE, embedding_dim)\n",
    "        self.embedding.load_state_dict(embedding.state_dict())\n",
    "        for p in self.embedding.parameters():\n",
    "            p.requires_grad = False\n",
    "\n",
    "        self.W_q = nn.Parameter(torch.rand((self.n_heads, CONTEXT_SIZE, embedding_dim)))\n",
    "        self.W_k = nn.Parameter(torch.rand((self.n_heads, CONTEXT_SIZE, embedding_dim)))\n",
    "        self.W_v = nn.Parameter(torch.rand((self.n_heads, CONTEXT_SIZE, embedding_dim)))\n",
    "        self.W_o = nn.Parameter(torch.rand((embedding_dim, self.n_heads * CONTEXT_SIZE)))\n",
    "\n",
    "        self.fc1 = nn.Linear(embedding_dim*CONTEXT_SIZE, 256)\n",
    "        self.fc2 = nn.Linear(256, 64)\n",
    "        self.fc3 = nn.Linear(64, 12)\n",
    "    \n",
    "    def forward(self, x):\n",
    "        batch_size, _ = x.size()\n",
    "        x = self.embedding(x)\n",
    "        x = x + pos_encoding\n",
    "        \n",
    "        multi_attn_heads = []\n",
    "        for ii in range(CONTEXT_SIZE):\n",
    "            attn_heads = torch.empty(0)\n",
    "            for i in range(self.n_heads):\n",
    "                q = x[:,ii,:] @ self.W_q[i].T\n",
    "                k = x[:,ii,:] @ self.W_k[i].T \n",
    "                v = x[:,ii,:] @ self.W_v[i].T\n",
    "                \n",
    "                attn_weights = torch.stack([q[j] @ k[j].T for j in range(batch_size) ])\n",
    "                attn_weights = torch.softmax(attn_weights / math.sqrt(CONTEXT_SIZE), dim=-1)\n",
    "                attn_head = torch.unsqueeze(attn_weights, dim=1) * v\n",
    "                attn_heads = torch.cat((attn_heads, attn_head), 1)\n",
    "            multi_attn_heads.append(self.W_o @ attn_heads.T)\n",
    "       \n",
    "        multi_attn_heads = torch.stack(multi_attn_heads)\n",
    "        out = multi_attn_heads.permute(2, 0, 1)\n",
    "        out = F.relu(self.fc1(torch.flatten(out, 1)))\n",
    "        out = F.relu(self.fc2(out))\n",
    "        out = self.fc3(out)\n",
    "        return out\n",
    "        "
   ]
  },
  {
   "cell_type": "code",
   "execution_count": 224,
   "metadata": {},
   "outputs": [
    {
     "name": "stdout",
     "output_type": "stream",
     "text": [
      "Now training a simple MLP model\n",
      "Training using parameters: {'lr': 0.01, 'weight_decay': 0.8}\n",
      "16:17:48.253302  |  Epoch 1  |  Training loss 2.48206\n",
      "16:17:48.598952  |  Epoch 5  |  Training loss 2.48074\n",
      "16:17:49.010302  |  Epoch 10  |  Training loss 2.48088\n",
      "\n",
      "Training using parameters: {'lr': 0.01, 'weight_decay': 0.5}\n",
      "16:17:49.113969  |  Epoch 1  |  Training loss 2.48095\n",
      "16:17:49.454666  |  Epoch 5  |  Training loss 2.47925\n",
      "16:17:49.837388  |  Epoch 10  |  Training loss 2.47889\n",
      "\n",
      "Training using parameters: {'lr': 0.01, 'weight_decay': 0.1}\n",
      "16:17:49.930799  |  Epoch 1  |  Training loss 2.47463\n",
      "16:17:50.252930  |  Epoch 5  |  Training loss 2.47040\n",
      "16:17:50.657184  |  Epoch 10  |  Training loss 2.46892\n",
      "\n",
      "Training using parameters: {'lr': 0.001, 'weight_decay': 0.8}\n",
      "16:17:50.758534  |  Epoch 1  |  Training loss 2.48178\n",
      "16:17:51.115362  |  Epoch 5  |  Training loss 2.48106\n",
      "16:17:51.484919  |  Epoch 10  |  Training loss 2.48069\n",
      "\n",
      "Training using parameters: {'lr': 0.001, 'weight_decay': 0.5}\n",
      "16:17:51.573263  |  Epoch 1  |  Training loss 2.49068\n",
      "16:17:51.873095  |  Epoch 5  |  Training loss 2.48102\n",
      "16:17:52.225988  |  Epoch 10  |  Training loss 2.47930\n",
      "\n",
      "Training using parameters: {'lr': 0.001, 'weight_decay': 0.1}\n",
      "16:17:52.317518  |  Epoch 1  |  Training loss 2.47916\n",
      "16:17:52.611020  |  Epoch 5  |  Training loss 2.47588\n",
      "16:17:52.981681  |  Epoch 10  |  Training loss 2.47105\n",
      "\n",
      "Now training a MLP model with attention\n",
      "Training using parameters: {'lr': 0.1}\n",
      "16:18:01.104901  |  Epoch 1  |  Training loss 7.17947\n",
      "16:18:32.258074  |  Epoch 5  |  Training loss 2.46711\n",
      "16:19:11.163080  |  Epoch 10  |  Training loss 2.46877\n",
      "\n",
      "Training using parameters: {'lr': 0.01}\n",
      "16:19:19.868579  |  Epoch 1  |  Training loss 2.77792\n",
      "16:19:51.176737  |  Epoch 5  |  Training loss 2.45509\n",
      "16:20:30.154729  |  Epoch 10  |  Training loss 2.44868\n",
      "\n",
      "Training using parameters: {'lr': 0.001}\n",
      "16:20:38.660830  |  Epoch 1  |  Training loss 2.66977\n",
      "16:21:09.942072  |  Epoch 5  |  Training loss 2.44800\n",
      "16:21:49.171120  |  Epoch 10  |  Training loss 2.44410\n",
      "\n"
     ]
    }
   ],
   "source": [
    "def train_models(hparams):\n",
    "    mlp_hparams, _ = hparams\n",
    "    \n",
    "    train_losses = []\n",
    "    models = []\n",
    "    accuracies = []\n",
    "\n",
    "    print(\"Now training a simple MLP model\")\n",
    "    for param in mlp_hparams:\n",
    "        print(f\"Training using parameters: {param}\")\n",
    "        model = SimpleMLP(embedding)\n",
    "        loss_fn = nn.CrossEntropyLoss(weight=word_weigts)\n",
    "        optimizer = optim.Adam(model.parameters(), **param)\n",
    "        train_loader = DataLoader(data_test_conj, batch_size=128, shuffle=True)\n",
    "        val_loader = DataLoader(data_val_conj, batch_size=128, shuffle=True)\n",
    "        n_epochs = 10\n",
    "        \n",
    "        loss = train(n_epochs, optimizer, model, loss_fn, train_loader)\n",
    "        accuracy = compute_accuracy(model, val_loader)\n",
    "\n",
    "        models.append(model)\n",
    "        train_losses.append(loss)\n",
    "        accuracies.append(accuracy)\n",
    "        print()\n",
    "\n",
    "    print(\"Now training a MLP model with attention\")\n",
    "    for param in attention_hparams:\n",
    "        print(f\"Training using parameters: {param}\")\n",
    "        model = AttentionMLP(embedding)\n",
    "        loss_fn = nn.CrossEntropyLoss(weight=word_weigts)\n",
    "        optimizer = optim.Adam(model.parameters(), **param)\n",
    "        train_loader = DataLoader(data_test_conj, batch_size=128, shuffle=True)\n",
    "        val_loader = DataLoader(data_val_conj, batch_size=128, shuffle=True)\n",
    "        n_epochs = 10\n",
    "        \n",
    "        loss = train(n_epochs, optimizer, model, loss_fn, train_loader)\n",
    "        accuracy = compute_accuracy(model, val_loader)\n",
    "\n",
    "        models.append(model)\n",
    "        train_losses.append(loss)\n",
    "        accuracies.append(accuracy)\n",
    "        print()\n",
    "    \n",
    "    \n",
    "    return models, train_losses, accuracies\n",
    "\n",
    "models, train_losses, accuracies = train_models(hparams)"
   ]
  },
  {
   "cell_type": "code",
   "execution_count": 200,
   "metadata": {},
   "outputs": [
    {
     "name": "stdout",
     "output_type": "stream",
     "text": [
      "torch.Size([2, 3, 4]) torch.Size([2, 3, 4]) torch.Size([2, 3, 2, 4])\n"
     ]
    }
   ],
   "source": [
    "# Define the input tensors\n",
    "x = torch.rand((2,3,4))\n",
    "y = torch.rand((2,3,4))\n",
    "\n",
    "z = [x, y]\n",
    "z = torch.stack(z, dim=2)\n",
    "print(x.size(), y.size(), z.size())"
   ]
  },
  {
   "cell_type": "code",
   "execution_count": 197,
   "metadata": {},
   "outputs": [
    {
     "data": {
      "text/plain": [
       "tensor([[[[0.9160, 0.8294, 0.4930, 0.2672],\n",
       "          [0.9036, 0.4186, 0.5404, 0.7261],\n",
       "          [0.3454, 0.4073, 0.9920, 0.2930]],\n",
       "\n",
       "         [[0.8204, 0.1322, 0.0439, 0.7257],\n",
       "          [0.9570, 0.4470, 0.4745, 0.9710],\n",
       "          [0.1387, 0.8025, 0.5025, 0.8648]]],\n",
       "\n",
       "\n",
       "        [[[0.6423, 0.4596, 0.4643, 0.3905],\n",
       "          [0.7047, 0.6351, 0.6018, 0.8730],\n",
       "          [0.8952, 0.6704, 0.9411, 0.8374]],\n",
       "\n",
       "         [[0.6498, 0.3961, 0.1706, 0.3020],\n",
       "          [0.5616, 0.4951, 0.1619, 0.4597],\n",
       "          [0.1409, 0.8088, 0.7118, 0.0246]]]])"
      ]
     },
     "execution_count": 197,
     "metadata": {},
     "output_type": "execute_result"
    }
   ],
   "source": [
    "z"
   ]
  },
  {
   "cell_type": "code",
   "execution_count": 128,
   "metadata": {},
   "outputs": [
    {
     "data": {
      "text/plain": [
       "torch.Size([128, 128])"
      ]
     },
     "execution_count": 128,
     "metadata": {},
     "output_type": "execute_result"
    }
   ],
   "source": [
    "z.size()"
   ]
  },
  {
   "cell_type": "code",
   "execution_count": null,
   "metadata": {},
   "outputs": [],
   "source": []
  }
 ],
 "metadata": {
  "kernelspec": {
   "display_name": "inf265",
   "language": "python",
   "name": "python3"
  },
  "language_info": {
   "codemirror_mode": {
    "name": "ipython",
    "version": 3
   },
   "file_extension": ".py",
   "mimetype": "text/x-python",
   "name": "python",
   "nbconvert_exporter": "python",
   "pygments_lexer": "ipython3",
   "version": "3.10.9"
  },
  "orig_nbformat": 4
 },
 "nbformat": 4,
 "nbformat_minor": 2
}
