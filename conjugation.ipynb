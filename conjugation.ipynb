{
 "cells": [
  {
   "cell_type": "code",
   "execution_count": 1,
   "metadata": {},
   "outputs": [
    {
     "name": "stdout",
     "output_type": "stream",
     "text": [
      "Training on device cpu.\n"
     ]
    }
   ],
   "source": [
    "import torch\n",
    "import torch.nn.functional as F\n",
    "import matplotlib.pyplot as plt\n",
    "import os\n",
    "import math\n",
    "\n",
    "from torch import nn, optim\n",
    "from torch.utils.data import TensorDataset, DataLoader, ConcatDataset\n",
    "from matplotlib.lines import Line2D\n",
    "from collections import Counter\n",
    "from datetime import datetime\n",
    "\n",
    "seed = 265\n",
    "torch.manual_seed(seed)\n",
    "\n",
    "device = (torch.device('cuda') if torch.cuda.is_available() else torch.device('cpu'))\n",
    "print(f\"Training on device {device}.\")"
   ]
  },
  {
   "cell_type": "code",
   "execution_count": 362,
   "metadata": {},
   "outputs": [],
   "source": [
    "# ----------------------- Setup ----------------------------\n",
    "PATH_GENERATED = './generated/'\n",
    "\n",
    "vocab = torch.load(PATH_GENERATED + 'vocabulary.pt', map_location=torch.device(device))\n",
    "embedding = torch.load(PATH_GENERATED + 'embedding.pt', map_location=torch.device(device))\n",
    "(VOCAB_SIZE, embedding_dim) = embedding.weight.shape  \n",
    "\n",
    "words_train = torch.load(PATH_GENERATED + \"words_train.pt\", map_location=torch.device(device))\n",
    "words_val   = torch.load(PATH_GENERATED + \"words_val.pt\", map_location=torch.device(device))\n",
    "words_test  = torch.load(PATH_GENERATED + \"words_test.pt\", map_location=torch.device(device))"
   ]
  },
  {
   "cell_type": "code",
   "execution_count": 363,
   "metadata": {},
   "outputs": [],
   "source": [
    "CONTEXT_SIZE = 10\n",
    "conjugation_list = ['be', 'am', 'are', 'is', 'was', 'were', 'been', 'being', 'have', 'has', 'had', 'having']\n",
    "MAP_TARGET = {vocab[w]:i for i, w in enumerate(conjugation_list)}\n",
    "\n",
    "def create_dataset(text, vocab, context_size=CONTEXT_SIZE, map_target=MAP_TARGET):\n",
    "    \n",
    "    # Transform each word to its index in the vocabulary.\n",
    "    txt = [vocab[w] for w in text]\n",
    "\n",
    "    n_text = len(text)\n",
    "    context_center = int(context_size/2)\n",
    "\n",
    "    contexts = []\n",
    "    targets = []\n",
    "    for i in range(n_text - context_center):\n",
    "        \n",
    "        t = txt[i + context_center]\n",
    "        if  not vocab.lookup_token(t) in conjugation_list: continue # We only want to guess conjunctions of be and have.\n",
    "        c = txt[i:i + context_center] + txt[i + context_center +1:i + context_size+1]\n",
    "        \n",
    "        targets.append(map_target[t]) \n",
    "        contexts.append(torch.tensor(c).to(device=device))\n",
    "            \n",
    "    contexts = torch.stack(contexts)\n",
    "    targets = torch.tensor(targets).to(device=device)\n",
    "    return TensorDataset(contexts, targets)"
   ]
  },
  {
   "cell_type": "code",
   "execution_count": 364,
   "metadata": {},
   "outputs": [],
   "source": [
    "def load_dataset(words, vocab, fname):\n",
    "    \"\"\"\n",
    "    Load dataset if already generated, otherwise, create it and save it\n",
    "    \"\"\"\n",
    "    \n",
    "    if os.path.isfile(PATH_GENERATED + fname):\n",
    "        dataset = torch.load(PATH_GENERATED + fname, map_location=torch.device(device))\n",
    "    else:\n",
    "        dataset = create_dataset(words, vocab)\n",
    "        torch.save(dataset, PATH_GENERATED + fname)\n",
    "    return dataset\n",
    "\n",
    "data_train_conj = load_dataset(words_train, vocab, \"conj_data_train.pt\")\n",
    "data_val_conj   = load_dataset(words_val, vocab, \"conj_data_val.pt\")\n",
    "data_test_conj  = load_dataset(words_test, vocab, \"conj_data_test.pt\")"
   ]
  },
  {
   "cell_type": "code",
   "execution_count": 366,
   "metadata": {},
   "outputs": [
    {
     "data": {
      "image/png": "[encoded data removed]",
      "text/plain": [
       "<Figure size 432x288 with 1 Axes>"
      ]
     },
     "metadata": {
      "needs_background": "light"
     },
     "output_type": "display_data"
    }
   ],
   "source": [
    "counts = Counter(data_train_conj[:][1].tolist())\n",
    "values = [int(counts[i]) for i in range(len(counts))]\n",
    "plt.bar(conjugation_list, values)\n",
    "plt.show()"
   ]
  },
  {
   "attachments": {},
   "cell_type": "markdown",
   "metadata": {},
   "source": [
    "The distribution of the target words are very skewed, we need to weigh the words by their frequency in the training set"
   ]
  },
  {
   "cell_type": "code",
   "execution_count": 367,
   "metadata": {},
   "outputs": [
    {
     "data": {
      "image/png": "[encoded data removed]",
      "text/plain": [
       "<Figure size 432x288 with 1 Axes>"
      ]
     },
     "metadata": {
      "needs_background": "light"
     },
     "output_type": "display_data"
    }
   ],
   "source": [
    "def calculate_word_weights(values):\n",
    "    \"\"\"\n",
    "    Calculate the weight of each word so that the loss function can weigh \n",
    "    frequent words less and unfrequent words more.\n",
    "    \"\"\"\n",
    "    total_words = sum(values)\n",
    "    word_weights = [total_words / value for value in values]\n",
    "    word_weights = torch.tensor(word_weights, dtype=torch.float).to(device=device)\n",
    "    return word_weights\n",
    "\n",
    "word_weigts = calculate_word_weights(values)\n",
    "values_balanced = [int(values[i])*w for i, w in enumerate(word_weigts)]\n",
    "plt.bar(conjugation_list, values_balanced)\n",
    "plt.show()"
   ]
  },
  {
   "cell_type": "code",
   "execution_count": 368,
   "metadata": {},
   "outputs": [],
   "source": [
    "# ---------------- Attention functions -----------------------\n",
    "pos_encoding = torch.zeros((CONTEXT_SIZE, embedding_dim))\n",
    "for i in range(CONTEXT_SIZE):\n",
    "    for ii in range(int(embedding_dim/2)):\n",
    "        pos_encoding[i][2*ii] = math.sin(i/1000**((2*ii)/embedding_dim))\n",
    "        pos_encoding[i][2*ii +1] = math.cos(i/1000**((2*ii)/embedding_dim))"
   ]
  },
  {
   "cell_type": "code",
   "execution_count": 369,
   "metadata": {},
   "outputs": [],
   "source": [
    "# ---------------- Simple MLP hyper parameters -----------------------\n",
    "lrs = [0.1, 0.01, 0.001]\n",
    "decays = [0.8, 0.5, 0.1]\n",
    "mlp_hparams = [{\n",
    "    'lr': lr,\n",
    "    'weight_decay': decay\n",
    "} for lr in lrs for decay in decays]\n",
    "\n",
    "# ---------------- Attention MLP hyper parameters ----------------------- \n",
    "lrs = [0.1, 0.01, 0.001]\n",
    "attention_hparams = [{\n",
    "    'lr': lr,\n",
    "} for lr in lrs]\n",
    "\n",
    "# ---------------- RNN MLP hyper parameters ----------------------- \n",
    "lrs = [0.1, 0.01, 0.001]\n",
    "rnn_hparams = [{\n",
    "    'lr': lr,\n",
    "} for lr in lrs]\n",
    "\n",
    "\n",
    "train_loader = DataLoader(data_test_conj, batch_size=128, shuffle=True)\n",
    "val_loader = DataLoader(data_val_conj, batch_size=128, shuffle=True)\n",
    "test_loader = DataLoader(data_test_conj, batch_size=128, shuffle=True)"
   ]
  },
  {
   "cell_type": "code",
   "execution_count": 370,
   "metadata": {},
   "outputs": [],
   "source": [
    "# ---------------- Train and accuracy -----------------------\n",
    "def train(n_epochs, optimizer, model, loss_fn, train_loader):\n",
    "\n",
    "    n_batch = len(train_loader)\n",
    "    losses_train = []\n",
    "    model.train()\n",
    "    optimizer.zero_grad(set_to_none=True)\n",
    "\n",
    "    for epoch in range(1, n_epochs + 1):\n",
    "\n",
    "        loss_train = 0.0\n",
    "        for contexts, targets in train_loader:\n",
    "\n",
    "            contexts = contexts.to(device=device)\n",
    "            targets = targets.to(device=device)\n",
    "\n",
    "            outputs = model(contexts)\n",
    "\n",
    "            loss = loss_fn(outputs, targets)\n",
    "            loss.backward()\n",
    "            optimizer.step()\n",
    "            optimizer.zero_grad()\n",
    "\n",
    "            loss_train += loss.item()\n",
    "\n",
    "        losses_train.append(loss_train / n_batch)\n",
    "\n",
    "        if epoch == 1 or epoch % 5 == 0:\n",
    "            print('{}  |  Epoch {}  |  Training loss {:.5f}'.format(\n",
    "                datetime.now().time(), epoch, loss_train / n_batch))\n",
    "    return losses_train\n",
    "\n",
    "def compute_accuracy(model, loader):\n",
    "    \"\"\"\n",
    "    Computes accuracy as correctly predicted / total \n",
    "    \"\"\"\n",
    "    model.eval()\n",
    "\n",
    "    correct = 0\n",
    "    total = 0\n",
    "\n",
    "    with torch.no_grad():\n",
    "        for contexts, targets in loader:\n",
    "            contexts = contexts.to(device=device)\n",
    "            targets = targets.to(device=device)\n",
    "\n",
    "            outputs = model(contexts)\n",
    "            _, predicted = torch.max(outputs, dim=1)\n",
    "            total += len(targets)\n",
    "            correct += int((predicted == targets).sum())\n",
    "\n",
    "    acc =  correct / total\n",
    "    return acc"
   ]
  },
  {
   "cell_type": "code",
   "execution_count": 371,
   "metadata": {},
   "outputs": [],
   "source": [
    "class SimpleMLP(nn.Module):\n",
    "    def __init__(self, embedding, context_size=CONTEXT_SIZE):\n",
    "        super().__init__()\n",
    "\n",
    "        (vocab_size, embedding_dim) = embedding.weight.shape\n",
    "        self.embedding = nn.Embedding(vocab_size, embedding_dim)\n",
    "        self.embedding.load_state_dict(embedding.state_dict())\n",
    "        for p in self.embedding.parameters():\n",
    "            p.requires_grad = False\n",
    "\n",
    "        self.fc1 = nn.Linear(embedding_dim*context_size, 256)\n",
    "        self.fc2 = nn.Linear(256, 64)\n",
    "        self.fc3 = nn.Linear(64, 12)\n",
    "\n",
    "    def forward(self, x):\n",
    "        out = self.embedding(x)\n",
    "        out = F.relu(self.fc1(torch.flatten(out, 1)))\n",
    "        out = F.relu(self.fc2(out))\n",
    "        out = self.fc3(out)\n",
    "\n",
    "        return out\n",
    "\n",
    "class AttentionMLP(nn.Module):\n",
    "    def __init__(self, n_heads=5):\n",
    "        super().__init__()\n",
    "\n",
    "        self.n_heads = n_heads\n",
    "        self.embedding = nn.Embedding(VOCAB_SIZE, embedding_dim)\n",
    "        self.embedding.load_state_dict(embedding.state_dict())\n",
    "        for p in self.embedding.parameters():\n",
    "            p.requires_grad = False\n",
    "\n",
    "        self.W_q = nn.Parameter(torch.rand((self.n_heads, CONTEXT_SIZE, embedding_dim)))\n",
    "        self.W_k = nn.Parameter(torch.rand((self.n_heads, CONTEXT_SIZE, embedding_dim)))\n",
    "        self.W_v = nn.Parameter(torch.rand((self.n_heads, CONTEXT_SIZE, embedding_dim)))\n",
    "        self.W_o = nn.Parameter(torch.rand((embedding_dim, self.n_heads * CONTEXT_SIZE)))\n",
    "\n",
    "        self.fc1 = nn.Linear(embedding_dim*CONTEXT_SIZE, 256)\n",
    "        self.fc2 = nn.Linear(256, 64)\n",
    "        self.fc3 = nn.Linear(64, 12)\n",
    "    \n",
    "    def forward(self, x):\n",
    "        batch_size, _ = x.size()\n",
    "        x = self.embedding(x)\n",
    "        x = x + pos_encoding\n",
    "        \n",
    "        multi_attn_heads = []\n",
    "        for ii in range(CONTEXT_SIZE):\n",
    "            attn_heads = torch.empty(0)\n",
    "            for i in range(self.n_heads):\n",
    "                q = x[:,ii,:] @ self.W_q[i].T\n",
    "                k = x[:,ii,:] @ self.W_k[i].T \n",
    "                v = x[:,ii,:] @ self.W_v[i].T\n",
    "                \n",
    "                attn_weights = torch.stack([q[j] @ k[j].T for j in range(batch_size) ])\n",
    "                attn_weights = torch.softmax(attn_weights / math.sqrt(CONTEXT_SIZE), dim=-1)\n",
    "                attn_head = torch.unsqueeze(attn_weights, dim=1) * v\n",
    "                attn_heads = torch.cat((attn_heads, attn_head), 1)\n",
    "            multi_attn_heads.append(self.W_o @ attn_heads.T)\n",
    "       \n",
    "        multi_attn_heads = torch.stack(multi_attn_heads)\n",
    "        out = multi_attn_heads.permute(2, 0, 1)\n",
    "        out = F.relu(self.fc1(torch.flatten(out, 1)))\n",
    "        out = F.relu(self.fc2(out))\n",
    "        out = self.fc3(out)\n",
    "        return out\n",
    "    \n",
    "class RNN(nn.Module):\n",
    "    def __init__(self, embedding):\n",
    "        super().__init__()\n",
    "\n",
    "        self.embedding = nn.Embedding(VOCAB_SIZE, embedding_dim)\n",
    "        self.embedding.load_state_dict(embedding.state_dict())\n",
    "        for p in self.embedding.parameters():\n",
    "            p.requires_grad = False\n",
    "\n",
    "        self.lstm = nn.LSTM(input_size=embedding_dim, hidden_size=12, batch_first=True, bidirectional=True)\n",
    "\n",
    "    def forward(self, x):\n",
    "        x = self.embedding(x)\n",
    "        out, (h_n, c_n) = self.lstm(x)\n",
    "        return h_n[-1]\n",
    "        "
   ]
  },
  {
   "cell_type": "code",
   "execution_count": 372,
   "metadata": {},
   "outputs": [
    {
     "name": "stdout",
     "output_type": "stream",
     "text": [
      "Now training a simple MLP model\n",
      "Training using parameters: {'lr': 0.1, 'weight_decay': 0.8}\n",
      "10:48:53.554794  |  Epoch 1  |  Training loss 2.48242\n",
      "10:48:53.850528  |  Epoch 5  |  Training loss 2.48157\n",
      "10:48:54.225317  |  Epoch 10  |  Training loss 2.48127\n",
      "\n",
      "Training using parameters: {'lr': 0.1, 'weight_decay': 0.5}\n",
      "10:48:54.355124  |  Epoch 1  |  Training loss 2.48167\n",
      "10:48:54.648536  |  Epoch 5  |  Training loss 2.47955\n",
      "10:48:55.005686  |  Epoch 10  |  Training loss 2.48043\n",
      "\n",
      "Training using parameters: {'lr': 0.1, 'weight_decay': 0.1}\n",
      "10:48:55.092904  |  Epoch 1  |  Training loss 2.48453\n",
      "10:48:55.403768  |  Epoch 5  |  Training loss 2.47133\n",
      "10:48:55.823088  |  Epoch 10  |  Training loss 2.47901\n",
      "\n",
      "Training using parameters: {'lr': 0.01, 'weight_decay': 0.8}\n",
      "10:48:56.008042  |  Epoch 1  |  Training loss 2.48140\n",
      "10:48:56.376624  |  Epoch 5  |  Training loss 2.48080\n",
      "10:48:56.796271  |  Epoch 10  |  Training loss 2.48142\n",
      "\n",
      "Training using parameters: {'lr': 0.01, 'weight_decay': 0.5}\n",
      "10:48:56.934331  |  Epoch 1  |  Training loss 2.47964\n",
      "10:48:57.262502  |  Epoch 5  |  Training loss 2.47890\n",
      "10:48:57.647557  |  Epoch 10  |  Training loss 2.47948\n",
      "\n",
      "Training using parameters: {'lr': 0.01, 'weight_decay': 0.1}\n",
      "10:48:57.735775  |  Epoch 1  |  Training loss 2.47228\n",
      "10:48:58.058913  |  Epoch 5  |  Training loss 2.46835\n",
      "10:48:58.434154  |  Epoch 10  |  Training loss 2.46997\n",
      "\n",
      "Training using parameters: {'lr': 0.001, 'weight_decay': 0.8}\n",
      "10:48:58.518210  |  Epoch 1  |  Training loss 2.48212\n",
      "10:48:58.821567  |  Epoch 5  |  Training loss 2.48058\n",
      "10:48:59.194767  |  Epoch 10  |  Training loss 2.48083\n",
      "\n",
      "Training using parameters: {'lr': 0.001, 'weight_decay': 0.5}\n",
      "10:48:59.290618  |  Epoch 1  |  Training loss 2.48147\n",
      "10:48:59.593216  |  Epoch 5  |  Training loss 2.47880\n",
      "10:49:00.044813  |  Epoch 10  |  Training loss 2.47889\n",
      "\n",
      "Training using parameters: {'lr': 0.001, 'weight_decay': 0.1}\n",
      "10:49:00.137356  |  Epoch 1  |  Training loss 2.47444\n",
      "10:49:00.490907  |  Epoch 5  |  Training loss 2.47299\n",
      "10:49:00.880325  |  Epoch 10  |  Training loss 2.47086\n",
      "\n",
      "Now training a MLP model with attention\n",
      "Training using parameters: {'lr': 0.1}\n",
      "10:49:09.024014  |  Epoch 1  |  Training loss 9.45753\n",
      "10:49:41.569663  |  Epoch 5  |  Training loss 2.47263\n",
      "10:50:22.754273  |  Epoch 10  |  Training loss 2.47752\n",
      "\n",
      "Training using parameters: {'lr': 0.01}\n",
      "10:50:31.562315  |  Epoch 1  |  Training loss 2.67229\n",
      "10:51:04.301196  |  Epoch 5  |  Training loss 2.39557\n",
      "10:51:46.059831  |  Epoch 10  |  Training loss 2.37760\n",
      "\n",
      "Training using parameters: {'lr': 0.001}\n",
      "10:51:55.636151  |  Epoch 1  |  Training loss 2.61895\n",
      "10:52:30.556943  |  Epoch 5  |  Training loss 2.45044\n",
      "10:53:15.024577  |  Epoch 10  |  Training loss 2.44120\n",
      "\n",
      "Now training a RNN model\n",
      "Training using parameters: {'lr': 0.1}\n",
      "10:53:16.038765  |  Epoch 1  |  Training loss 2.37072\n",
      "10:53:16.859182  |  Epoch 5  |  Training loss 2.16673\n",
      "10:53:17.883272  |  Epoch 10  |  Training loss 2.08508\n",
      "\n",
      "Training using parameters: {'lr': 0.01}\n",
      "10:53:18.149568  |  Epoch 1  |  Training loss 2.46793\n",
      "10:53:19.021471  |  Epoch 5  |  Training loss 2.07152\n",
      "10:53:20.060138  |  Epoch 10  |  Training loss 1.93282\n",
      "\n",
      "Training using parameters: {'lr': 0.001}\n",
      "10:53:20.328185  |  Epoch 1  |  Training loss 2.49012\n",
      "10:53:21.148282  |  Epoch 5  |  Training loss 2.45364\n",
      "10:53:22.180655  |  Epoch 10  |  Training loss 2.34843\n",
      "\n"
     ]
    }
   ],
   "source": [
    "def train_models():\n",
    "    \n",
    "    train_losses = []\n",
    "    models = []\n",
    "    accuracies = []\n",
    "    params = []\n",
    "\n",
    "    print(\"Now training a simple MLP model\")\n",
    "    for param in mlp_hparams:\n",
    "        print(f\"Training using parameters: {param}\")\n",
    "        torch.manual_seed(seed)\n",
    "        model = SimpleMLP(embedding)\n",
    "        loss_fn = nn.CrossEntropyLoss(weight=word_weigts)\n",
    "        optimizer = optim.Adam(model.parameters(), **param)\n",
    "        n_epochs = 10\n",
    "        \n",
    "        loss = train(n_epochs, optimizer, model, loss_fn, train_loader)\n",
    "        accuracy = compute_accuracy(model, val_loader)\n",
    "\n",
    "        models.append(model)\n",
    "        train_losses.append(loss)\n",
    "        accuracies.append(accuracy)\n",
    "        params.append(param)\n",
    "        print()\n",
    "\n",
    "    print(\"Now training a MLP model with attention\")\n",
    "    for param in attention_hparams:\n",
    "        print(f\"Training using parameters: {param}\")\n",
    "        torch.manual_seed(seed)\n",
    "        model = AttentionMLP(embedding)\n",
    "        loss_fn = nn.CrossEntropyLoss(weight=word_weigts)\n",
    "        optimizer = optim.Adam(model.parameters(), **param)\n",
    "        n_epochs = 10\n",
    "        \n",
    "        loss = train(n_epochs, optimizer, model, loss_fn, train_loader)\n",
    "        accuracy = compute_accuracy(model, val_loader)\n",
    "\n",
    "        models.append(model)\n",
    "        train_losses.append(loss)\n",
    "        accuracies.append(accuracy)\n",
    "        params.append(param)\n",
    "        print()\n",
    "    \n",
    "    print(\"Now training a RNN model\")\n",
    "    for param in rnn_hparams:\n",
    "        print(f\"Training using parameters: {param}\")\n",
    "        torch.manual_seed(seed)\n",
    "        model = RNN(embedding)\n",
    "        loss_fn = nn.CrossEntropyLoss(weight=word_weigts)\n",
    "        optimizer = optim.Adam(model.parameters(), **param)\n",
    "        n_epochs = 10\n",
    "        \n",
    "        loss = train(n_epochs, optimizer, model, loss_fn, train_loader)\n",
    "        accuracy = compute_accuracy(model, val_loader)\n",
    "\n",
    "        models.append(model)\n",
    "        train_losses.append(loss)\n",
    "        accuracies.append(accuracy)\n",
    "        params.append(param)\n",
    "        print()\n",
    "        \n",
    "    return models, params, train_losses, accuracies\n",
    "\n",
    "models, params, train_losses, accuracies = train_models()"
   ]
  },
  {
   "cell_type": "code",
   "execution_count": 373,
   "metadata": {},
   "outputs": [
    {
     "data": {
      "image/png": "[encoded data removed]",
      "text/plain": [
       "<Figure size 432x288 with 1 Axes>"
      ]
     },
     "metadata": {
      "needs_background": "light"
     },
     "output_type": "display_data"
    }
   ],
   "source": [
    "for i, loss in enumerate(train_losses):\n",
    "    if i < 9:\n",
    "        plt.plot(loss, \"r-\", label=\"Simple MLP\")\n",
    "    elif i < 12:\n",
    "        plt.plot(loss, \"g-\", label=\"MLP with attention\")\n",
    "    else:\n",
    "        plt.plot(loss, \"b-\", label=\"RNN\")\n",
    "\n",
    "colors = ['r', 'g', 'b']\n",
    "lines = [Line2D([0], [0], color=c, linewidth=3, linestyle='-') for c in colors]\n",
    "labels = [\"Simple MLP\", \"MLP with attention\", \"RNN\"]\n",
    "plt.legend(lines, labels)\n",
    "plt.ylim(top=3)\n",
    "plt.show()"
   ]
  },
  {
   "cell_type": "code",
   "execution_count": 374,
   "metadata": {},
   "outputs": [
    {
     "name": "stdout",
     "output_type": "stream",
     "text": [
      "The best performing model is RNN(\n",
      "  (embedding): Embedding(1880, 16)\n",
      "  (lstm): LSTM(16, 12, batch_first=True, bidirectional=True)\n",
      ") with an accuracy of 0.2617760617760618\n"
     ]
    }
   ],
   "source": [
    "best_idx = accuracies.index(max(accuracies))\n",
    "best_model = models[best_idx]\n",
    "best_param = params[best_idx]\n",
    "print(f\"The best performing model is {best_model} with an accuracy of {accuracies[best_idx]}\")"
   ]
  },
  {
   "cell_type": "code",
   "execution_count": 375,
   "metadata": {},
   "outputs": [
    {
     "name": "stdout",
     "output_type": "stream",
     "text": [
      "Retraining best model for longer on train + val dataset\n",
      "10:53:28.167939  |  Epoch 1  |  Training loss 1.87689\n",
      "10:53:50.327213  |  Epoch 5  |  Training loss 1.71567\n",
      "10:54:17.365983  |  Epoch 10  |  Training loss 1.68251\n",
      "10:54:44.973305  |  Epoch 15  |  Training loss 1.68121\n",
      "10:55:13.457773  |  Epoch 20  |  Training loss 1.69082\n",
      "10:55:46.489169  |  Epoch 25  |  Training loss 1.66523\n",
      "10:56:20.548881  |  Epoch 30  |  Training loss 1.67317\n",
      "10:56:53.936480  |  Epoch 35  |  Training loss 1.71163\n",
      "10:57:27.670970  |  Epoch 40  |  Training loss 1.68033\n",
      "10:58:00.624279  |  Epoch 45  |  Training loss 1.66157\n",
      "10:58:35.011688  |  Epoch 50  |  Training loss 1.66929\n"
     ]
    }
   ],
   "source": [
    "train_val_loader = DataLoader(ConcatDataset([data_train_conj, data_val_conj]), batch_size=128, shuffle=True)\n",
    "print(f\"Retraining best model for longer on train + val dataset\")\n",
    "loss_fn = nn.CrossEntropyLoss(weight=word_weigts)\n",
    "optimizer = optim.Adam(best_model.parameters(), **best_param)\n",
    "n_epochs = 50\n",
    "\n",
    "best_model_loss = train(n_epochs, optimizer, best_model, loss_fn, train_val_loader)\n",
    "accuracy = compute_accuracy(best_model, test_loader)"
   ]
  },
  {
   "cell_type": "code",
   "execution_count": 376,
   "metadata": {},
   "outputs": [
    {
     "name": "stdout",
     "output_type": "stream",
     "text": [
      "The accuracy of the best model on the test set was 0.35299055613851\n"
     ]
    },
    {
     "data": {
      "image/png": "[encoded data removed]",
      "text/plain": [
       "<Figure size 432x288 with 1 Axes>"
      ]
     },
     "metadata": {
      "needs_background": "light"
     },
     "output_type": "display_data"
    }
   ],
   "source": [
    "plt.plot(best_model_loss)\n",
    "print(f\"The accuracy of the best model on the test set was {accuracy}\")"
   ]
  },
  {
   "cell_type": "code",
   "execution_count": null,
   "metadata": {},
   "outputs": [],
   "source": []
  }
 ],
 "metadata": {
  "kernelspec": {
   "display_name": "inf265",
   "language": "python",
   "name": "python3"
  },
  "language_info": {
   "codemirror_mode": {
    "name": "ipython",
    "version": 3
   },
   "file_extension": ".py",
   "mimetype": "text/x-python",
   "name": "python",
   "nbconvert_exporter": "python",
   "pygments_lexer": "ipython3",
   "version": "3.10.9"
  },
  "orig_nbformat": 4
 },
 "nbformat": 4,
 "nbformat_minor": 2
}
