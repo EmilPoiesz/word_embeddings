{
 "cells": [
  {
   "cell_type": "code",
   "execution_count": 1,
   "metadata": {},
   "outputs": [
    {
     "name": "stdout",
     "output_type": "stream",
     "text": [
      "Training on device cpu.\n"
     ]
    }
   ],
   "source": [
    "import torch\n",
    "import torch.nn.functional as F\n",
    "import matplotlib.pyplot as plt\n",
    "import os\n",
    "import math\n",
    "\n",
    "from torch import nn, optim\n",
    "from torch.utils.data import TensorDataset, DataLoader, ConcatDataset\n",
    "from matplotlib.lines import Line2D\n",
    "from collections import Counter\n",
    "from datetime import datetime\n",
    "from utils import train, compute_accuracy\n",
    "\n",
    "seed = 265\n",
    "torch.manual_seed(seed)\n",
    "\n",
    "device = (torch.device('cuda') if torch.cuda.is_available() else torch.device('cpu'))\n",
    "print(f\"Training on device {device}.\")"
   ]
  },
  {
   "cell_type": "code",
   "execution_count": 2,
   "metadata": {},
   "outputs": [],
   "source": [
    "# ----------------------- Load Vocab, Embedding and Texts ----------------------------\n",
    "PATH_GENERATED = './generated/'\n",
    "\n",
    "vocab = torch.load(PATH_GENERATED + 'vocabulary.pt', map_location=torch.device(device))\n",
    "embedding = torch.load(PATH_GENERATED + 'embedding.pt', map_location=torch.device(device))\n",
    "(VOCAB_SIZE, embedding_dim) = embedding.weight.shape  \n",
    "\n",
    "words_train = torch.load(PATH_GENERATED + \"words_train.pt\", map_location=torch.device(device))\n",
    "words_val   = torch.load(PATH_GENERATED + \"words_val.pt\", map_location=torch.device(device))\n",
    "words_test  = torch.load(PATH_GENERATED + \"words_test.pt\", map_location=torch.device(device))"
   ]
  },
  {
   "cell_type": "code",
   "execution_count": 3,
   "metadata": {},
   "outputs": [],
   "source": [
    "# ---------------- Datasets -----------------------\n",
    "CONTEXT_SIZE = 10\n",
    "conjugation_list = ['be', 'am', 'are', 'is', 'was', 'were', 'been', 'being', 'have', 'has', 'had', 'having']\n",
    "MAP_TARGET = {vocab[w]:i for i, w in enumerate(conjugation_list)}\n",
    "\n",
    "def create_dataset(text, vocab, context_size=CONTEXT_SIZE, map_target=MAP_TARGET):\n",
    "    \"\"\"\n",
    "    Create context-target pairs where the targets are all conjugations of the verbs \"to be\" and \"to have\".\n",
    "    \"\"\"\n",
    "    # Transform each word to its index in the vocabulary.\n",
    "    txt = [vocab[w] for w in text]\n",
    "\n",
    "    n_text = len(text)\n",
    "    context_center = int(context_size/2)\n",
    "\n",
    "    contexts = []\n",
    "    targets = []\n",
    "    for i in range(n_text - context_size):\n",
    "        \n",
    "        t = txt[i + context_center]\n",
    "        if  not vocab.lookup_token(t) in conjugation_list: continue # We only want to guess conjunctions of be and have.\n",
    "        c = txt[i:i + context_center] + txt[i + context_center +1:i + context_size+1]\n",
    "        \n",
    "        targets.append(map_target[t]) \n",
    "        contexts.append(torch.tensor(c).to(device=device))\n",
    "            \n",
    "    contexts = torch.stack(contexts)\n",
    "    targets = torch.tensor(targets).to(device=device)\n",
    "    return TensorDataset(contexts, targets)\n",
    "\n",
    "def load_dataset(words, vocab, fname):\n",
    "    \"\"\"\n",
    "    Load dataset if already generated, otherwise, create it and save it\n",
    "    \"\"\"\n",
    "    \n",
    "    if os.path.isfile(PATH_GENERATED + fname):\n",
    "        dataset = torch.load(PATH_GENERATED + fname, map_location=torch.device(device))\n",
    "    else:\n",
    "        dataset = create_dataset(words, vocab)\n",
    "        torch.save(dataset, PATH_GENERATED + fname)\n",
    "    return dataset\n",
    "\n",
    "data_train_conj = load_dataset(words_train, vocab, \"conj_data_train.pt\")\n",
    "data_val_conj   = load_dataset(words_val, vocab, \"conj_data_val.pt\")\n",
    "data_test_conj  = load_dataset(words_test, vocab, \"conj_data_test.pt\")\n",
    "\n",
    "# ---------------- Positional Encoding -----------------------\n",
    "pos_encoding = torch.zeros((CONTEXT_SIZE, embedding_dim))\n",
    "for i in range(CONTEXT_SIZE):\n",
    "    for ii in range(int(embedding_dim/2)):\n",
    "        pos_encoding[i][2*ii] = math.sin(i/1000**((2*ii)/embedding_dim))\n",
    "        pos_encoding[i][2*ii +1] = math.cos(i/1000**((2*ii)/embedding_dim))"
   ]
  },
  {
   "attachments": {},
   "cell_type": "markdown",
   "metadata": {},
   "source": [
    "The distribution of the target words are very skewed, we need to weigh the words by their frequency in the training set"
   ]
  },
  {
   "cell_type": "code",
   "execution_count": 4,
   "metadata": {},
   "outputs": [
    {
     "data": {
      "image/png": "[encoded data removed]",
      "text/plain": [
       "<Figure size 432x288 with 1 Axes>"
      ]
     },
     "metadata": {
      "needs_background": "light"
     },
     "output_type": "display_data"
    },
    {
     "name": "stdout",
     "output_type": "stream",
     "text": [
      "The frequency of the targets is skewed, we should weight the targets to balance the dataset.\n"
     ]
    },
    {
     "data": {
      "image/png": "[encoded data removed]",
      "text/plain": [
       "<Figure size 432x288 with 1 Axes>"
      ]
     },
     "metadata": {
      "needs_background": "light"
     },
     "output_type": "display_data"
    },
    {
     "name": "stdout",
     "output_type": "stream",
     "text": [
      "Post balance\n"
     ]
    }
   ],
   "source": [
    "def calculate_word_weights(values):\n",
    "    \"\"\"\n",
    "    Calculate the weight of each word so that the loss function can weigh \n",
    "    frequent words less and unfrequent words more.\n",
    "    \"\"\"\n",
    "    total_words = sum(values)\n",
    "    word_weights = [total_words / value for value in values]\n",
    "    word_weights = torch.tensor(word_weights, dtype=torch.float).to(device=device)\n",
    "    return word_weights\n",
    "\n",
    "counts = Counter(data_train_conj[:][1].tolist())\n",
    "values = [int(counts[i]) for i in range(len(counts))]\n",
    "plt.bar(conjugation_list, values)\n",
    "plt.show()\n",
    "print('The frequency of the targets is skewed, we should weight the targets to balance the dataset.')\n",
    "\n",
    "word_weigts = calculate_word_weights(values)\n",
    "values_balanced = [int(values[i])*w for i, w in enumerate(word_weigts)]\n",
    "plt.bar(conjugation_list, values_balanced)\n",
    "plt.show()\n",
    "print('Post balance')"
   ]
  },
  {
   "cell_type": "code",
   "execution_count": 5,
   "metadata": {},
   "outputs": [],
   "source": [
    "# ---------------- Simple MLP hyper parameters -----------------------\n",
    "lrs = [0.1, 0.01, 0.001]\n",
    "decays = [0.8, 0.5, 0.1]\n",
    "mlp_hparams = [{\n",
    "    'lr': lr,\n",
    "    'weight_decay': decay\n",
    "} for lr in lrs for decay in decays]\n",
    "\n",
    "# ---------------- Attention MLP hyper parameters ----------------------- \n",
    "lrs = [0.1, 0.01, 0.001]\n",
    "attention_hparams = [{\n",
    "    'lr': lr,\n",
    "} for lr in lrs]\n",
    "\n",
    "# ---------------- RNN MLP hyper parameters ----------------------- \n",
    "lrs = [0.1, 0.01, 0.001]\n",
    "rnn_hparams = [{\n",
    "    'lr': lr,\n",
    "} for lr in lrs]\n",
    "\n",
    "\n",
    "train_loader = DataLoader(data_test_conj, batch_size=128, shuffle=True)\n",
    "val_loader = DataLoader(data_val_conj, batch_size=128, shuffle=True)\n",
    "test_loader = DataLoader(data_test_conj, batch_size=128, shuffle=True)\n",
    "\n",
    "train_val_loader = DataLoader(ConcatDataset([data_train_conj, data_val_conj]), batch_size=128, shuffle=True)"
   ]
  },
  {
   "cell_type": "code",
   "execution_count": 6,
   "metadata": {},
   "outputs": [],
   "source": [
    "# ---------------- MLP, Attention, and RNN models -----------------------\n",
    "class SimpleMLP(nn.Module):\n",
    "    def __init__(self, embedding, context_size=CONTEXT_SIZE):\n",
    "        super().__init__()\n",
    "\n",
    "        (vocab_size, embedding_dim) = embedding.weight.shape\n",
    "        self.embedding = nn.Embedding(vocab_size, embedding_dim)\n",
    "        self.embedding.load_state_dict(embedding.state_dict())\n",
    "        for p in self.embedding.parameters():\n",
    "            p.requires_grad = False\n",
    "\n",
    "        self.fc1 = nn.Linear(embedding_dim*context_size, 256)\n",
    "        self.fc2 = nn.Linear(256, 64)\n",
    "        self.fc3 = nn.Linear(64, 12)\n",
    "\n",
    "    def forward(self, x):\n",
    "        out = self.embedding(x)\n",
    "        out = F.relu(self.fc1(torch.flatten(out, 1)))\n",
    "        out = F.relu(self.fc2(out))\n",
    "        out = self.fc3(out)\n",
    "\n",
    "        return out\n",
    "\n",
    "class AttentionMLP(nn.Module):\n",
    "    def __init__(self, embedding, n_heads=5):\n",
    "        super().__init__()\n",
    "\n",
    "        (vocab_size, embedding_dim) = embedding.weight.shape\n",
    "        self.n_heads = n_heads\n",
    "        self.embedding = nn.Embedding(VOCAB_SIZE, embedding_dim)\n",
    "        self.embedding.load_state_dict(embedding.state_dict())\n",
    "        for p in self.embedding.parameters():\n",
    "            p.requires_grad = False\n",
    "\n",
    "        self.W_q = nn.Parameter(torch.rand((self.n_heads, CONTEXT_SIZE, embedding_dim)))\n",
    "        self.W_k = nn.Parameter(torch.rand((self.n_heads, CONTEXT_SIZE, embedding_dim)))\n",
    "        self.W_v = nn.Parameter(torch.rand((self.n_heads, CONTEXT_SIZE, embedding_dim)))\n",
    "        self.W_o = nn.Parameter(torch.rand((embedding_dim, self.n_heads * CONTEXT_SIZE)))\n",
    "\n",
    "        self.fc1 = nn.Linear(embedding_dim*CONTEXT_SIZE, 256)\n",
    "        self.fc2 = nn.Linear(256, 64)\n",
    "        self.fc3 = nn.Linear(64, 12)\n",
    "    \n",
    "    def forward(self, x):\n",
    "        batch_size, _ = x.size()\n",
    "        x = self.embedding(x)\n",
    "        x = x + pos_encoding\n",
    "        \n",
    "        multi_attn_heads = []\n",
    "        for ii in range(CONTEXT_SIZE):\n",
    "            attn_heads = torch.empty(0)\n",
    "            for i in range(self.n_heads):\n",
    "                q = x[:,ii,:] @ self.W_q[i].T\n",
    "                k = x[:,ii,:] @ self.W_k[i].T \n",
    "                v = x[:,ii,:] @ self.W_v[i].T\n",
    "                \n",
    "                attn_weights = torch.stack([q[j] @ k[j].T for j in range(batch_size)])\n",
    "                attn_weights = torch.softmax(attn_weights / math.sqrt(CONTEXT_SIZE), dim=-1)\n",
    "                attn_head = torch.unsqueeze(attn_weights, dim=1) * v\n",
    "                attn_heads = torch.cat((attn_heads, attn_head), 1)\n",
    "            multi_attn_heads.append(self.W_o @ attn_heads.T)\n",
    "       \n",
    "        multi_attn_heads = torch.stack(multi_attn_heads)\n",
    "        out = multi_attn_heads.permute(2, 0, 1)\n",
    "        out = F.relu(self.fc1(torch.flatten(out, 1)))\n",
    "        out = F.relu(self.fc2(out))\n",
    "        out = self.fc3(out)\n",
    "        return out\n",
    "    \n",
    "class RNN(nn.Module):\n",
    "    def __init__(self, embedding):\n",
    "        super().__init__()\n",
    "\n",
    "        self.embedding = nn.Embedding(VOCAB_SIZE, embedding_dim)\n",
    "        self.embedding.load_state_dict(embedding.state_dict())\n",
    "        for p in self.embedding.parameters():\n",
    "            p.requires_grad = False\n",
    "\n",
    "        self.lstm = nn.LSTM(input_size=embedding_dim, hidden_size=12, batch_first=True, bidirectional=True)\n",
    "\n",
    "    def forward(self, x):\n",
    "        x = self.embedding(x)\n",
    "        out, (h_n, c_n) = self.lstm(x)\n",
    "        return h_n[-1]"
   ]
  },
  {
   "cell_type": "code",
   "execution_count": 7,
   "metadata": {},
   "outputs": [],
   "source": [
    "def train_all_models():\n",
    "    \"\"\"\n",
    "    Training MLP, MLP with attention, and RNN with given hyper-parameters\n",
    "    \"\"\"\n",
    "    \n",
    "    train_losses = []\n",
    "    models = []\n",
    "    accuracies = []\n",
    "    params = []\n",
    "\n",
    "    print(\"Now training a simple MLP model\")\n",
    "    for param in mlp_hparams:\n",
    "        print(f\"Training using parameters: {param}\")\n",
    "        torch.manual_seed(seed)\n",
    "        model = SimpleMLP(embedding)\n",
    "        loss_fn = nn.CrossEntropyLoss(weight=word_weigts)\n",
    "        optimizer = optim.Adam(model.parameters(), **param)\n",
    "        n_epochs = 10\n",
    "        \n",
    "        loss = train(n_epochs, optimizer, model, loss_fn, train_loader, device)\n",
    "        accuracy = compute_accuracy(model, val_loader, device)\n",
    "\n",
    "        models.append(model)\n",
    "        train_losses.append(loss)\n",
    "        accuracies.append(accuracy)\n",
    "        params.append(param)\n",
    "        print()\n",
    "\n",
    "    print(\"Now training a MLP model with attention\")\n",
    "    for param in attention_hparams:\n",
    "        print(f\"Training using parameters: {param}\")\n",
    "        torch.manual_seed(seed)\n",
    "        model = AttentionMLP(embedding)\n",
    "        loss_fn = nn.CrossEntropyLoss(weight=word_weigts)\n",
    "        optimizer = optim.Adam(model.parameters(), **param)\n",
    "        n_epochs = 10\n",
    "        \n",
    "        loss = train(n_epochs, optimizer, model, loss_fn, train_loader, device)\n",
    "        accuracy = compute_accuracy(model, val_loader, device)\n",
    "\n",
    "        models.append(model)\n",
    "        train_losses.append(loss)\n",
    "        accuracies.append(accuracy)\n",
    "        params.append(param)\n",
    "        print()\n",
    "    \n",
    "    print(\"Now training a RNN model\")\n",
    "    for param in rnn_hparams:\n",
    "        print(f\"Training using parameters: {param}\")\n",
    "        torch.manual_seed(seed)\n",
    "        model = RNN(embedding)\n",
    "        loss_fn = nn.CrossEntropyLoss(weight=word_weigts)\n",
    "        optimizer = optim.Adam(model.parameters(), **param)\n",
    "        n_epochs = 10\n",
    "        \n",
    "        loss = train(n_epochs, optimizer, model, loss_fn, train_loader, device)\n",
    "        accuracy = compute_accuracy(model, val_loader, device)\n",
    "\n",
    "        models.append(model)\n",
    "        train_losses.append(loss)\n",
    "        accuracies.append(accuracy)\n",
    "        params.append(param)\n",
    "        print()\n",
    "        \n",
    "    return models, params, train_losses, accuracies\n",
    "\n",
    "def select_best_model(models, params, accuracies):\n",
    "    \"\"\"\n",
    "    Selecting the best performing model based on accuracy on the validation set,\n",
    "    then re-training the model on the combined train+val set for more epochs.\n",
    "    \"\"\"\n",
    "    best_idx = accuracies.index(max(accuracies))\n",
    "    best_model = models[best_idx]\n",
    "    best_param = params[best_idx]\n",
    "    print(f\"The best performing model is {best_model} with an accuracy of {accuracies[best_idx]}\\n\")\n",
    "    \n",
    "    print(f\"Retraining best model for longer on train + val dataset\")\n",
    "    loss_fn = nn.CrossEntropyLoss(weight=word_weigts)\n",
    "    torch.manual_seed(seed)\n",
    "    optimizer = optim.Adam(best_model.parameters(), **best_param)\n",
    "    n_epochs = 30\n",
    "\n",
    "    torch.manual_seed(seed)\n",
    "    best_model_loss = train(n_epochs, optimizer, best_model, loss_fn, train_val_loader, device)\n",
    "    accuracy = compute_accuracy(best_model, test_loader, device)\n",
    "\n",
    "    return best_model, best_model_loss, accuracy"
   ]
  },
  {
   "cell_type": "code",
   "execution_count": 8,
   "metadata": {},
   "outputs": [],
   "source": [
    "# ----------------------- Best Model -------------------------------\n",
    "if os.path.isfile(PATH_GENERATED + 'best_model_conjugation.pt'):\n",
    "    best_model = torch.load(PATH_GENERATED + 'best_model_conjugation.pt')\n",
    "    accuracy = torch.load(PATH_GENERATED + 'best_model_conjugation_accuracy.pt')\n",
    "    train_losses = torch.load(PATH_GENERATED + 'best_model_conjugation_train_losses.pt')\n",
    "    best_model_loss = torch.load(PATH_GENERATED + 'best_model_conjugation_best_loss.pt')\n",
    "else:\n",
    "    models, params, train_losses, val_accs = train_all_models()\n",
    "    best_model, best_model_loss, accuracy = select_best_model(models, params, val_accs)\n",
    "    torch.save(best_model, PATH_GENERATED + 'best_model_conjugation.pt')\n",
    "    torch.save(accuracy, PATH_GENERATED + 'best_model_conjugation_accuracy.pt')\n",
    "    torch.save(train_losses, PATH_GENERATED + 'best_model_conjugation_train_losses.pt')\n",
    "    torch.save(best_model_loss, PATH_GENERATED + 'best_model_conjugation_best_loss.pt')"
   ]
  },
  {
   "cell_type": "code",
   "execution_count": 9,
   "metadata": {},
   "outputs": [
    {
     "data": {
      "image/png": "[encoded data removed]",
      "text/plain": [
       "<Figure size 432x288 with 1 Axes>"
      ]
     },
     "metadata": {
      "needs_background": "light"
     },
     "output_type": "display_data"
    },
    {
     "name": "stdout",
     "output_type": "stream",
     "text": [
      "Training the best model more..\n"
     ]
    },
    {
     "data": {
      "image/png": "[encoded data removed]",
      "text/plain": [
       "<Figure size 432x288 with 1 Axes>"
      ]
     },
     "metadata": {
      "needs_background": "light"
     },
     "output_type": "display_data"
    },
    {
     "name": "stdout",
     "output_type": "stream",
     "text": [
      "The accuracy of the best model on the test set was 0.35\n"
     ]
    }
   ],
   "source": [
    "# ----------------------- Plots -------------------------------\n",
    "for i, loss in enumerate(train_losses):\n",
    "    if i < 9:\n",
    "        plt.plot(loss, \"r-\", label=\"Simple MLP\")\n",
    "    elif i < 12:\n",
    "        plt.plot(loss, \"g-\", label=\"MLP with attention\")\n",
    "    else:\n",
    "        plt.plot(loss, \"b-\", label=\"RNN\")\n",
    "\n",
    "colors = ['r', 'g', 'b']\n",
    "lines = [Line2D([0], [0], color=c, linewidth=3, linestyle='-') for c in colors]\n",
    "labels = [\"Simple MLP\", \"MLP with attention\", \"RNN\"]\n",
    "plt.legend(lines, labels)\n",
    "plt.ylim(top=3)\n",
    "plt.title(\"Training loss for each type of model\")\n",
    "plt.ylabel(\"Loss\")\n",
    "plt.xlabel(\"Epoch\")\n",
    "plt.show()\n",
    "\n",
    "print(\"Training the best model more..\")\n",
    "plt.plot(best_model_loss)\n",
    "plt.title(\"Training loss for the best model\")\n",
    "plt.ylabel(\"Loss\")\n",
    "plt.xlabel(\"Epoch\")\n",
    "plt.show()\n",
    "print(f\"The accuracy of the best model on the test set was {round(accuracy, 2)}\")"
   ]
  },
  {
   "cell_type": "code",
   "execution_count": null,
   "metadata": {},
   "outputs": [],
   "source": []
  }
 ],
 "metadata": {
  "kernelspec": {
   "display_name": "inf265",
   "language": "python",
   "name": "python3"
  },
  "language_info": {
   "codemirror_mode": {
    "name": "ipython",
    "version": 3
   },
   "file_extension": ".py",
   "mimetype": "text/x-python",
   "name": "python",
   "nbconvert_exporter": "python",
   "pygments_lexer": "ipython3",
   "version": "3.10.9"
  },
  "orig_nbformat": 4
 },
 "nbformat": 4,
 "nbformat_minor": 2
}
